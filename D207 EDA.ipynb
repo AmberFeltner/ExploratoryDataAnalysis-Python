{
 "cells": [
  {
   "cell_type": "code",
   "execution_count": 126,
   "id": "9928ba6f-b198-4b1c-9a58-adfaccd7109b",
   "metadata": {
    "tags": []
   },
   "outputs": [
    {
     "name": "stdout",
     "output_type": "stream",
     "text": [
      "<class 'pandas.core.frame.DataFrame'>\n",
      "RangeIndex: 10000 entries, 0 to 9999\n",
      "Data columns (total 50 columns):\n",
      " #   Column                Non-Null Count  Dtype  \n",
      "---  ------                --------------  -----  \n",
      " 0   CaseOrder             10000 non-null  int64  \n",
      " 1   Customer_id           10000 non-null  object \n",
      " 2   Interaction           10000 non-null  object \n",
      " 3   UID                   10000 non-null  object \n",
      " 4   City                  10000 non-null  object \n",
      " 5   State                 10000 non-null  object \n",
      " 6   County                10000 non-null  object \n",
      " 7   Zip                   10000 non-null  int64  \n",
      " 8   Lat                   10000 non-null  float64\n",
      " 9   Lng                   10000 non-null  float64\n",
      " 10  Population            10000 non-null  int64  \n",
      " 11  Area                  10000 non-null  object \n",
      " 12  TimeZone              10000 non-null  object \n",
      " 13  Job                   10000 non-null  object \n",
      " 14  Children              10000 non-null  int64  \n",
      " 15  Age                   10000 non-null  int64  \n",
      " 16  Income                10000 non-null  float64\n",
      " 17  Marital               10000 non-null  object \n",
      " 18  Gender                10000 non-null  object \n",
      " 19  Churn                 10000 non-null  object \n",
      " 20  Outage_sec_perweek    10000 non-null  float64\n",
      " 21  Email                 10000 non-null  int64  \n",
      " 22  Contacts              10000 non-null  int64  \n",
      " 23  Yearly_equip_failure  10000 non-null  int64  \n",
      " 24  Techie                10000 non-null  object \n",
      " 25  Contract              10000 non-null  object \n",
      " 26  Port_modem            10000 non-null  object \n",
      " 27  Tablet                10000 non-null  object \n",
      " 28  InternetService       7871 non-null   object \n",
      " 29  Phone                 10000 non-null  object \n",
      " 30  Multiple              10000 non-null  object \n",
      " 31  OnlineSecurity        10000 non-null  object \n",
      " 32  OnlineBackup          10000 non-null  object \n",
      " 33  DeviceProtection      10000 non-null  object \n",
      " 34  TechSupport           10000 non-null  object \n",
      " 35  StreamingTV           10000 non-null  object \n",
      " 36  StreamingMovies       10000 non-null  object \n",
      " 37  PaperlessBilling      10000 non-null  object \n",
      " 38  PaymentMethod         10000 non-null  object \n",
      " 39  Tenure                10000 non-null  float64\n",
      " 40  MonthlyCharge         10000 non-null  float64\n",
      " 41  Bandwidth_GB_Year     10000 non-null  float64\n",
      " 42  Item1                 10000 non-null  int64  \n",
      " 43  Item2                 10000 non-null  int64  \n",
      " 44  Item3                 10000 non-null  int64  \n",
      " 45  Item4                 10000 non-null  int64  \n",
      " 46  Item5                 10000 non-null  int64  \n",
      " 47  Item6                 10000 non-null  int64  \n",
      " 48  Item7                 10000 non-null  int64  \n",
      " 49  Item8                 10000 non-null  int64  \n",
      "dtypes: float64(7), int64(16), object(27)\n",
      "memory usage: 3.8+ MB\n"
     ]
    }
   ],
   "source": [
    "import pandas as pd \n",
    "import numpy as np \n",
    "df = pd.read_csv('churn_clean.csv') \n",
    "df.info()"
   ]
  },
  {
   "cell_type": "code",
   "execution_count": 127,
   "id": "46f51b9d-7f54-453a-8312-9ac3b8728df9",
   "metadata": {},
   "outputs": [],
   "source": [
    "from scipy.stats import chi2_contingency"
   ]
  },
  {
   "cell_type": "code",
   "execution_count": 128,
   "id": "0c490a49-5873-4777-839f-3465562c5be1",
   "metadata": {
    "tags": []
   },
   "outputs": [],
   "source": [
    "#Create contingency table for Techie and Churn"
   ]
  },
  {
   "cell_type": "code",
   "execution_count": 129,
   "id": "4008ff41-2cb4-405e-98c1-48878882b809",
   "metadata": {
    "tags": []
   },
   "outputs": [],
   "source": [
    "contingency_table = pd.crosstab(df['Techie'], df['Churn'])"
   ]
  },
  {
   "cell_type": "code",
   "execution_count": 130,
   "id": "77168407-525d-455d-b13b-ba1f2f200285",
   "metadata": {
    "tags": []
   },
   "outputs": [],
   "source": [
    "#Print contingency table"
   ]
  },
  {
   "cell_type": "code",
   "execution_count": 131,
   "id": "e2c3006f-031e-4132-abcc-308ad76785f8",
   "metadata": {
    "tags": []
   },
   "outputs": [
    {
     "name": "stdout",
     "output_type": "stream",
     "text": [
      "Contingency Table:\n",
      "Churn     No   Yes\n",
      "Techie            \n",
      "No      6226  2095\n",
      "Yes     1124   555\n"
     ]
    }
   ],
   "source": [
    "print(\"Contingency Table:\")\n",
    "print(contingency_table)"
   ]
  },
  {
   "cell_type": "code",
   "execution_count": 132,
   "id": "e7033037-9f58-41f4-a41e-b8d7b628cdc7",
   "metadata": {
    "tags": []
   },
   "outputs": [],
   "source": [
    "#perform chi-square test"
   ]
  },
  {
   "cell_type": "code",
   "execution_count": 133,
   "id": "0a798042-2111-4b27-8be7-3a0a8be9667c",
   "metadata": {
    "tags": []
   },
   "outputs": [],
   "source": [
    "chi2, p, _, expected = chi2_contingency(contingency_table)"
   ]
  },
  {
   "cell_type": "code",
   "execution_count": 134,
   "id": "6a2b9303-5b7d-4b64-bf65-b31c9010df92",
   "metadata": {
    "tags": []
   },
   "outputs": [],
   "source": [
    "#Print results"
   ]
  },
  {
   "cell_type": "code",
   "execution_count": 135,
   "id": "ddf7d142-1346-4afa-9627-d2f38420ec36",
   "metadata": {
    "tags": []
   },
   "outputs": [
    {
     "name": "stdout",
     "output_type": "stream",
     "text": [
      "\n",
      "Chi-square statistic: 44.11479393861451\n",
      "P-value: 3.096716355509661e-11\n",
      "Degrees of freedom: 1\n",
      "Expected frequencies table:\n",
      "Churn         No       Yes\n",
      "Techie                    \n",
      "No      6115.935  2205.065\n",
      "Yes     1234.065   444.935\n"
     ]
    }
   ],
   "source": [
    "print(\"\\nChi-square statistic:\", chi2)\n",
    "print(\"P-value:\", p)\n",
    "print(\"Degrees of freedom:\", (contingency_table.shape[0] - 1) * (contingency_table.shape[1] - 1))\n",
    "print(\"Expected frequencies table:\")\n",
    "print(pd.DataFrame(expected, index=contingency_table.index, columns=contingency_table.columns))"
   ]
  },
  {
   "cell_type": "code",
   "execution_count": 136,
   "id": "3c1fd2b1-d96f-467e-b1f6-7a87924fc53f",
   "metadata": {
    "tags": []
   },
   "outputs": [],
   "source": [
    "#Check the p-value to determine statistical significance"
   ]
  },
  {
   "cell_type": "code",
   "execution_count": 137,
   "id": "09d32395-074e-43e5-ae58-2e70ceb9ba72",
   "metadata": {
    "tags": []
   },
   "outputs": [
    {
     "name": "stdout",
     "output_type": "stream",
     "text": [
      "\n",
      "The result is statistically significant; reject the null hypothesis.\n"
     ]
    }
   ],
   "source": [
    "alpha = 0.05\n",
    "if p < alpha:\n",
    "    print(\"\\nThe result is statistically significant; reject the null hypothesis.\")\n",
    "else:\n",
    "    print(\"\\nThe result is not statistically significant; fail to reject the null hypothesis.\")"
   ]
  },
  {
   "cell_type": "code",
   "execution_count": 138,
   "id": "03c12040-a321-4a65-9813-72a1df3b6fdf",
   "metadata": {
    "tags": []
   },
   "outputs": [],
   "source": [
    "#import library matplotlib"
   ]
  },
  {
   "cell_type": "code",
   "execution_count": 139,
   "id": "97eb1d86-5345-4dbb-bbf5-da986e61818f",
   "metadata": {
    "tags": []
   },
   "outputs": [],
   "source": [
    "import matplotlib.pyplot as plt"
   ]
  },
  {
   "cell_type": "code",
   "execution_count": 140,
   "id": "b1ab1eb3-7547-4349-b89f-42cc8afa5f33",
   "metadata": {
    "tags": []
   },
   "outputs": [],
   "source": [
    "# Part C: Yearly_equip_failure distriubution (continuous variable no.1)"
   ]
  },
  {
   "cell_type": "code",
   "execution_count": 141,
   "id": "0a4b413b-af10-44eb-b40d-4d38b161d304",
   "metadata": {
    "tags": []
   },
   "outputs": [
    {
     "data": {
      "text/plain": [
       "(array([6.727e+03, 2.670e+03, 0.000e+00, 5.090e+02, 0.000e+00, 8.600e+01,\n",
       "        7.000e+00, 0.000e+00, 0.000e+00, 1.000e+00]),\n",
       " array([0. , 0.6, 1.2, 1.8, 2.4, 3. , 3.6, 4.2, 4.8, 5.4, 6. ]),\n",
       " <BarContainer object of 10 artists>)"
      ]
     },
     "execution_count": 141,
     "metadata": {},
     "output_type": "execute_result"
    },
    {
     "data": {
      "image/png": "[encoded data removed]",
      "text/plain": [
       "<Figure size 640x480 with 1 Axes>"
      ]
     },
     "metadata": {},
     "output_type": "display_data"
    }
   ],
   "source": [
    " plt.hist(df[\"Yearly_equip_failure\"])"
   ]
  },
  {
   "cell_type": "code",
   "execution_count": 142,
   "id": "c07d69f8-83f5-4357-8ab1-1586e3778973",
   "metadata": {
    "tags": []
   },
   "outputs": [],
   "source": [
    "#as can be seen, there is a right skew distribution."
   ]
  },
  {
   "cell_type": "code",
   "execution_count": 143,
   "id": "97cd6339-571a-4d5f-ae8d-2db81e313563",
   "metadata": {
    "tags": []
   },
   "outputs": [],
   "source": [
    "#Outage_sec_per week (continuous variable no.2)"
   ]
  },
  {
   "cell_type": "code",
   "execution_count": 144,
   "id": "ad056870-c837-4c1b-9b13-826cffb670ab",
   "metadata": {
    "tags": []
   },
   "outputs": [
    {
     "data": {
      "text/plain": [
       "(array([  42.,  245.,  876., 1919., 2804., 2357., 1240.,  413.,   94.,\n",
       "          10.]),\n",
       " array([ 0.09974694,  2.21049525,  4.32124355,  6.43199186,  8.54274016,\n",
       "        10.65348847, 12.76423678, 14.87498508, 16.98573339, 19.09648169,\n",
       "        21.20723   ]),\n",
       " <BarContainer object of 10 artists>)"
      ]
     },
     "execution_count": 144,
     "metadata": {},
     "output_type": "execute_result"
    },
    {
     "data": {
      "image/png": "[encoded data removed]",
      "text/plain": [
       "<Figure size 640x480 with 1 Axes>"
      ]
     },
     "metadata": {},
     "output_type": "display_data"
    }
   ],
   "source": [
    " plt.hist(df[\"Outage_sec_perweek\"])"
   ]
  },
  {
   "cell_type": "code",
   "execution_count": 145,
   "id": "a1ebddce-e0b5-477e-958a-e1a8aac35327",
   "metadata": {
    "tags": []
   },
   "outputs": [],
   "source": [
    "#as can be seen, Outage_sec_perweek has a normal distribution"
   ]
  },
  {
   "cell_type": "code",
   "execution_count": 146,
   "id": "3e6e8944-30f7-471a-bd9f-246d6e661655",
   "metadata": {
    "tags": []
   },
   "outputs": [],
   "source": [
    "#Techie (categorical variable no.1)"
   ]
  },
  {
   "cell_type": "code",
   "execution_count": 147,
   "id": "c78ba119-d44a-404c-884e-0f1df1fcedbf",
   "metadata": {
    "tags": []
   },
   "outputs": [],
   "source": [
    "binary_variable_counts = df['Techie'].value_counts()"
   ]
  },
  {
   "cell_type": "code",
   "execution_count": 148,
   "id": "168450c9-2e2d-42a2-b1b4-09c22a36715e",
   "metadata": {
    "tags": []
   },
   "outputs": [
    {
     "data": {
      "image/png": "[encoded data removed]",
      "text/plain": [
       "<Figure size 640x480 with 1 Axes>"
      ]
     },
     "metadata": {},
     "output_type": "display_data"
    }
   ],
   "source": [
    "plt.bar(binary_variable_counts.index, binary_variable_counts.values)\n",
    "plt.xlabel('Categories')\n",
    "plt.ylabel('Frequency')\n",
    "plt.title('Distribution of Techie')\n",
    "plt.show()"
   ]
  },
  {
   "cell_type": "code",
   "execution_count": 149,
   "id": "23a0834b-efb6-4fe3-b560-2a9d9900e516",
   "metadata": {
    "tags": []
   },
   "outputs": [],
   "source": [
    "#as shown, Techie has a right skewed distribution. "
   ]
  },
  {
   "cell_type": "code",
   "execution_count": 150,
   "id": "91667a96-ea24-4001-b3ac-27d0336d216e",
   "metadata": {
    "tags": []
   },
   "outputs": [],
   "source": [
    "#Churn (categorical variable no.2)"
   ]
  },
  {
   "cell_type": "code",
   "execution_count": 151,
   "id": "3dc81bb3-3b2f-4e7f-a682-e236bc3b9387",
   "metadata": {
    "tags": []
   },
   "outputs": [],
   "source": [
    "binary_variable_counts = df['Churn'].value_counts()"
   ]
  },
  {
   "cell_type": "code",
   "execution_count": 152,
   "id": "21066375-f73c-4356-b199-6f17b3dc2f79",
   "metadata": {
    "tags": []
   },
   "outputs": [
    {
     "data": {
      "image/png": "[encoded data removed]",
      "text/plain": [
       "<Figure size 640x480 with 1 Axes>"
      ]
     },
     "metadata": {},
     "output_type": "display_data"
    }
   ],
   "source": [
    "plt.bar(binary_variable_counts.index, binary_variable_counts.values)\n",
    "plt.xlabel('Categories')\n",
    "plt.ylabel('Frequency')\n",
    "plt.title('Distribution of Churn')\n",
    "plt.show()"
   ]
  },
  {
   "cell_type": "code",
   "execution_count": 153,
   "id": "7bdd5eb1-1926-4f73-9ff9-f805fa5e7213",
   "metadata": {
    "tags": []
   },
   "outputs": [],
   "source": [
    "#as can be seen, Churn has a right skewed distribution"
   ]
  },
  {
   "cell_type": "code",
   "execution_count": 154,
   "id": "debf1cb3-0116-49a3-8066-c47247ad0f3c",
   "metadata": {
    "tags": []
   },
   "outputs": [],
   "source": [
    "import seaborn as sns"
   ]
  },
  {
   "cell_type": "code",
   "execution_count": 155,
   "id": "6b22b702-0cef-4ed0-8fee-476c1ab6c1fe",
   "metadata": {
    "tags": []
   },
   "outputs": [],
   "source": [
    "from sklearn.linear_model import LinearRegression"
   ]
  },
  {
   "cell_type": "code",
   "execution_count": 156,
   "id": "d69920fb-1cc7-4d23-8198-cf9ba2fff068",
   "metadata": {
    "tags": []
   },
   "outputs": [],
   "source": [
    "#D. Find distribution of continous bivariate variables"
   ]
  },
  {
   "cell_type": "code",
   "execution_count": 157,
   "id": "2857c49a-555a-4da8-9051-f6925b16ae7f",
   "metadata": {
    "tags": []
   },
   "outputs": [],
   "source": [
    "#Assign axis for both continous variables"
   ]
  },
  {
   "cell_type": "code",
   "execution_count": 158,
   "id": "5d78cbb8-d691-4a27-873b-29bda800561d",
   "metadata": {
    "tags": []
   },
   "outputs": [],
   "source": [
    "X = df['Yearly_equip_failure'].values.reshape(-1, 1)\n",
    "y = df['Income'].values"
   ]
  },
  {
   "cell_type": "code",
   "execution_count": 159,
   "id": "ec68d29a-80c2-4fc5-b091-6721a0807c95",
   "metadata": {
    "tags": []
   },
   "outputs": [],
   "source": [
    "#Create and fit linear regression model"
   ]
  },
  {
   "cell_type": "code",
   "execution_count": 160,
   "id": "a14c5201-bfd9-4d81-8780-ecf7c2e43395",
   "metadata": {
    "tags": []
   },
   "outputs": [],
   "source": [
    "model = LinearRegression().fit(X, y)\n"
   ]
  },
  {
   "cell_type": "code",
   "execution_count": 161,
   "id": "d374038a-3273-4a02-9f63-8a0c8e886a46",
   "metadata": {
    "tags": []
   },
   "outputs": [],
   "source": [
    "#Find slope and intercept"
   ]
  },
  {
   "cell_type": "code",
   "execution_count": 162,
   "id": "66e7b1b1-0a69-4668-8235-1078dbfb12ce",
   "metadata": {
    "tags": []
   },
   "outputs": [],
   "source": [
    "slope = model.coef_[0]\n",
    "intercept = model.intercept_"
   ]
  },
  {
   "cell_type": "code",
   "execution_count": 163,
   "id": "86a21fec-43fb-4f8b-b932-db5642d5a7ea",
   "metadata": {
    "tags": []
   },
   "outputs": [],
   "source": [
    "#plot the line "
   ]
  },
  {
   "cell_type": "code",
   "execution_count": 164,
   "id": "4aa19c50-27a9-4a84-a261-1ebf1ed27e3d",
   "metadata": {
    "tags": []
   },
   "outputs": [
    {
     "data": {
      "image/png": "[encoded data removed]",
      "text/plain": [
       "<Figure size 640x480 with 1 Axes>"
      ]
     },
     "metadata": {},
     "output_type": "display_data"
    }
   ],
   "source": [
    "plt.scatter(X, y, alpha=0.5)\n",
    "plt.plot(X, slope * X + intercept, color='red', linewidth=2)\n",
    "plt.xlabel('Yearly_equip_failure')\n",
    "plt.ylabel('Income')\n",
    "plt.title('Regression Analysis of Two Continuous Variables')\n",
    "plt.show()"
   ]
  },
  {
   "cell_type": "code",
   "execution_count": 165,
   "id": "b6ee6ad8-b930-4a63-bb93-dc835a4303ec",
   "metadata": {
    "tags": []
   },
   "outputs": [],
   "source": [
    "#the linear regression model shows a skewed right distribution for the variables 'Income' and 'Yearly_equip_failure'"
   ]
  },
  {
   "cell_type": "code",
   "execution_count": 166,
   "id": "ba56d5db-a055-48f8-92b6-5d3cb7e8c28d",
   "metadata": {
    "tags": []
   },
   "outputs": [],
   "source": [
    "#bivariate distribution for categorigal variables"
   ]
  },
  {
   "cell_type": "code",
   "execution_count": 167,
   "id": "31b92a8c-d894-4402-b9d2-667249ecb3e7",
   "metadata": {
    "tags": []
   },
   "outputs": [],
   "source": [
    "data = {'Item1': ['1', '2', '3', '4', '5'],\n",
    "        'Item2': ['1', '2', '3', '4', '5']}\n",
    "df = pd.DataFrame(data)"
   ]
  },
  {
   "cell_type": "code",
   "execution_count": 168,
   "id": "11ceb838-63be-4b5c-b049-2e4e8f50f4c7",
   "metadata": {
    "tags": []
   },
   "outputs": [],
   "source": [
    "#create contingency table "
   ]
  },
  {
   "cell_type": "code",
   "execution_count": 169,
   "id": "f6f31b94-f30b-4cc3-b610-184a23cbbdf3",
   "metadata": {
    "tags": []
   },
   "outputs": [],
   "source": [
    "contingency_table = pd.crosstab(df['Item1'], df['Item2'])\n"
   ]
  },
  {
   "cell_type": "code",
   "execution_count": 170,
   "id": "61b61213-10c4-4b7f-a6fe-4e974f754d36",
   "metadata": {
    "tags": []
   },
   "outputs": [],
   "source": [
    "#Create heat map "
   ]
  },
  {
   "cell_type": "code",
   "execution_count": 171,
   "id": "a24ce4c1-35b5-4084-b48c-4afa1097e095",
   "metadata": {
    "tags": []
   },
   "outputs": [
    {
     "data": {
      "image/png": "[encoded data removed]",
      "text/plain": [
       "<Figure size 800x600 with 1 Axes>"
      ]
     },
     "metadata": {},
     "output_type": "display_data"
    }
   ],
   "source": [
    "plt.figure(figsize=(8, 6))\n",
    "sns.heatmap(contingency_table, annot=True, cmap='Blues', fmt='d', cbar=False)\n",
    "plt.title('Heatmap of Bivariate Categorical Variables')\n",
    "plt.xlabel('Item2')\n",
    "plt.ylabel('Item1')\n",
    "plt.show()"
   ]
  },
  {
   "cell_type": "code",
   "execution_count": null,
   "id": "469bbb11-3b4d-418b-9626-e587c50cf7f1",
   "metadata": {},
   "outputs": [],
   "source": [
    "#As can be seen Item1 and Item2 show a right skew distribution "
   ]
  }
 ],
 "metadata": {
  "kernelspec": {
   "display_name": "Python 3 (ipykernel)",
   "language": "python",
   "name": "python3"
  },
  "language_info": {
   "codemirror_mode": {
    "name": "ipython",
    "version": 3
   },
   "file_extension": ".py",
   "mimetype": "text/x-python",
   "name": "python",
   "nbconvert_exporter": "python",
   "pygments_lexer": "ipython3",
   "version": "3.11.5"
  }
 },
 "nbformat": 4,
 "nbformat_minor": 5
}
